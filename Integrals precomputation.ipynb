{
 "cells": [
  {
   "cell_type": "code",
   "execution_count": 2,
   "metadata": {
    "collapsed": true
   },
   "outputs": [],
   "source": [
    "from auxiliaries import *\n",
    "import pandas as pd"
   ]
  },
  {
   "cell_type": "code",
   "execution_count": 3,
   "metadata": {
    "collapsed": false
   },
   "outputs": [
    {
     "data": {
      "text/html": [
       "<div>\n",
       "<table border=\"1\" class=\"dataframe\">\n",
       "  <thead>\n",
       "    <tr style=\"text-align: right;\">\n",
       "      <th></th>\n",
       "      <th>date</th>\n",
       "      <th>days</th>\n",
       "      <th>imp_vol</th>\n",
       "      <th>strike</th>\n",
       "      <th>premium</th>\n",
       "      <th>maturity</th>\n",
       "      <th>call</th>\n",
       "      <th>price</th>\n",
       "      <th>riskfree</th>\n",
       "      <th>rate</th>\n",
       "      <th>lfmoneyness</th>\n",
       "      <th>moneyness</th>\n",
       "    </tr>\n",
       "  </thead>\n",
       "  <tbody>\n",
       "    <tr>\n",
       "      <th>7</th>\n",
       "      <td>1996-01-10</td>\n",
       "      <td>30</td>\n",
       "      <td>0.142568</td>\n",
       "      <td>597.5253</td>\n",
       "      <td>8.515888</td>\n",
       "      <td>0.082192</td>\n",
       "      <td>False</td>\n",
       "      <td>598.47998</td>\n",
       "      <td>6.366438</td>\n",
       "      <td>2.510953</td>\n",
       "      <td>-0.524865</td>\n",
       "      <td>0.998405</td>\n",
       "    </tr>\n",
       "    <tr>\n",
       "      <th>8</th>\n",
       "      <td>1996-01-10</td>\n",
       "      <td>30</td>\n",
       "      <td>0.145550</td>\n",
       "      <td>594.3030</td>\n",
       "      <td>7.298738</td>\n",
       "      <td>0.082192</td>\n",
       "      <td>False</td>\n",
       "      <td>598.47998</td>\n",
       "      <td>6.366438</td>\n",
       "      <td>2.510953</td>\n",
       "      <td>-0.530273</td>\n",
       "      <td>0.993021</td>\n",
       "    </tr>\n",
       "  </tbody>\n",
       "</table>\n",
       "</div>"
      ],
      "text/plain": [
       "        date  days   imp_vol    strike   premium  maturity   call      price  \\\n",
       "7 1996-01-10    30  0.142568  597.5253  8.515888  0.082192  False  598.47998   \n",
       "8 1996-01-10    30  0.145550  594.3030  7.298738  0.082192  False  598.47998   \n",
       "\n",
       "   riskfree      rate  lfmoneyness  moneyness  \n",
       "7  6.366438  2.510953    -0.524865   0.998405  \n",
       "8  6.366438  2.510953    -0.530273   0.993021  "
      ]
     },
     "execution_count": 3,
     "metadata": {},
     "output_type": "execute_result"
    }
   ],
   "source": [
    "folder = \"C:/nes/Options_data/\"\n",
    "data = pd.read_hdf(folder + 'data_ivs.h5')\n",
    "data.head(2)"
   ]
  },
  {
   "cell_type": "markdown",
   "metadata": {},
   "source": [
    "### Integrals precomputation (for logs and non-logs models)"
   ]
  },
  {
   "cell_type": "code",
   "execution_count": null,
   "metadata": {
    "collapsed": true
   },
   "outputs": [],
   "source": [
    "# for logs-models. Takes about 20 minutes\n",
    "compute_all_integs(data, get_grid_basis(3, 3), \n",
    "                   dump=True, for_logs=True, verbose=True)"
   ]
  },
  {
   "cell_type": "code",
   "execution_count": null,
   "metadata": {
    "collapsed": true
   },
   "outputs": [],
   "source": [
    "# for non-logs. Takes about 10 minutes\n",
    "compute_all_integs(data, get_grid_basis(3, 3), \n",
    "                   dump=True, for_logs=False, verbose=True)"
   ]
  }
 ],
 "metadata": {
  "kernelspec": {
   "display_name": "Python [Root]",
   "language": "python",
   "name": "Python [Root]"
  },
  "language_info": {
   "codemirror_mode": {
    "name": "ipython",
    "version": 3
   },
   "file_extension": ".py",
   "mimetype": "text/x-python",
   "name": "python",
   "nbconvert_exporter": "python",
   "pygments_lexer": "ipython3",
   "version": "3.5.2"
  }
 },
 "nbformat": 4,
 "nbformat_minor": 0
}
